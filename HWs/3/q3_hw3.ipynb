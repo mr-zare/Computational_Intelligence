{
  "cells": [
    {
      "cell_type": "code",
      "execution_count": 1,
      "metadata": {
        "colab": {
          "base_uri": "https://localhost:8080/"
        },
        "id": "UrDz8nYt3d-I",
        "outputId": "5d998e22-63c7-4a3d-f34e-3ea458cce55e"
      },
      "outputs": [
        {
          "output_type": "stream",
          "name": "stdout",
          "text": [
            "Looking in indexes: https://pypi.org/simple, https://us-python.pkg.dev/colab-wheels/public/simple/\n",
            "Collecting simpful\n",
            "  Downloading simpful-2.9.0-py3-none-any.whl (30 kB)\n",
            "Requirement already satisfied: numpy>=1.12.0 in /usr/local/lib/python3.8/dist-packages (from simpful) (1.21.6)\n",
            "Requirement already satisfied: requests in /usr/local/lib/python3.8/dist-packages (from simpful) (2.23.0)\n",
            "Requirement already satisfied: scipy>=1.0.0 in /usr/local/lib/python3.8/dist-packages (from simpful) (1.7.3)\n",
            "Requirement already satisfied: certifi>=2017.4.17 in /usr/local/lib/python3.8/dist-packages (from requests->simpful) (2022.12.7)\n",
            "Requirement already satisfied: idna<3,>=2.5 in /usr/local/lib/python3.8/dist-packages (from requests->simpful) (2.10)\n",
            "Requirement already satisfied: urllib3!=1.25.0,!=1.25.1,<1.26,>=1.21.1 in /usr/local/lib/python3.8/dist-packages (from requests->simpful) (1.24.3)\n",
            "Requirement already satisfied: chardet<4,>=3.0.2 in /usr/local/lib/python3.8/dist-packages (from requests->simpful) (3.0.4)\n",
            "Installing collected packages: simpful\n",
            "Successfully installed simpful-2.9.0\n"
          ]
        }
      ],
      "source": [
        "!pip install simpful"
      ]
    },
    {
      "cell_type": "code",
      "execution_count": 9,
      "metadata": {
        "colab": {
          "base_uri": "https://localhost:8080/"
        },
        "id": "cuRaEARt3d-K",
        "outputId": "dee38d93-ddeb-4d72-a75d-7d98e564999d"
      },
      "outputs": [
        {
          "output_type": "stream",
          "name": "stdout",
          "text": [
            "  ____  __  _  _  ____  ____  _  _  __   \n",
            " / ___)(  )( \\/ )(  _ \\(  __)/ )( \\(  ) v2.9.0 \n",
            " \\___ \\ )( / \\/ \\ ) __/ ) _) ) \\/ (/ (_/\\ \n",
            " (____/(__)\\_)(_/(__)  (__)  \\____/\\____/\n",
            "\n",
            " Created by Marco S. Nobile (m.s.nobile@tue.nl)\n",
            " and Simone Spolaor (simone.spolaor@unimib.it)\n",
            "\n"
          ]
        }
      ],
      "source": [
        "from simpful import *\n",
        "\n",
        "fuzzysys = FuzzySystem()\n",
        "\n",
        "tmprte = AutoTriangle(5, terms=['very_cold', 'cold', 'moderate', 'hot', 'very_hot'], universe_of_discourse=[-20,100])\n",
        "hmdt = AutoTriangle(3, terms=['dry', 'normal', 'wet'], universe_of_discourse=[0, 100])\n",
        "Rainfall_amount = AutoTriangle(5, terms=['very_low', 'low', 'moderate', 'high', 'very_high'], universe_of_discourse=[0,90])\n",
        "height = AutoTriangle(5, terms=['very_low', 'low', 'moderate', 'high', 'very_high'], universe_of_discourse=[0,5500])"
      ]
    },
    {
      "cell_type": "code",
      "execution_count": 10,
      "metadata": {
        "id": "t81XcZhP3d-K"
      },
      "outputs": [],
      "source": [
        "fuzzysys.add_linguistic_variable(\"temperature_3\", tmprte)\n",
        "fuzzysys.add_linguistic_variable(\"temperature_2\", tmprte)\n",
        "fuzzysys.add_linguistic_variable(\"temperature_1\", tmprte)\n",
        "fuzzysys.add_linguistic_variable(\"humidity\", hmdt)\n",
        "fuzzysys.add_linguistic_variable(\"rain_amount\", Rainfall_amount)\n",
        "fuzzysys.add_linguistic_variable(\"altitude\", height)\n",
        "fuzzysys.add_linguistic_variable(\"today_temperature\", tmprte)"
      ]
    },
    {
      "cell_type": "code",
      "execution_count": 11,
      "metadata": {
        "colab": {
          "base_uri": "https://localhost:8080/"
        },
        "id": "lG7-x6BL3d-K",
        "outputId": "6fd2950a-3cc3-4eb3-a4d8-6c61991d9623"
      },
      "outputs": [
        {
          "output_type": "stream",
          "name": "stdout",
          "text": [
            " * Regular expression is not matching with single atomic clause\n",
            " * Looking for an operator in (temperature_3 IS very_cold) AND (temperature_2 IS cold) AND (temperature_1 IS cold)\n",
            "  -- Found (temperature_3 IS very_cold) *AND* (temperature_2 IS cold) AND (temperature_1 IS cold)\n",
            " * Simple clause with parentheses matched\n",
            " * Rule: c.(temperature_3 IS very_cold)\n",
            " * Regular expression is not matching with single atomic clause\n",
            " * Looking for an operator in (temperature_2 IS cold) AND (temperature_1 IS cold)\n",
            "  -- Found (temperature_2 IS cold) *AND* (temperature_1 IS cold)\n",
            " * Simple clause with parentheses matched\n",
            " * Rule: c.(temperature_2 IS cold)\n",
            " * Simple clause with parentheses matched\n",
            " * Rule: c.(temperature_1 IS cold)\n",
            " * Added rule IF f.(c.(temperature_3 IS very_cold) AND f.(c.(temperature_2 IS cold) AND c.(temperature_1 IS cold))) THEN ('today_temperature', 'cold')\n",
            "\n",
            " * Regular expression is not matching with single atomic clause\n",
            " * Looking for an operator in (temperature_3 IS very_cold) AND (temperature_2 IS cold)\n",
            "  -- Found (temperature_3 IS very_cold) *AND* (temperature_2 IS cold)\n",
            " * Simple clause with parentheses matched\n",
            " * Rule: c.(temperature_3 IS very_cold)\n",
            " * Simple clause with parentheses matched\n",
            " * Rule: c.(temperature_2 IS cold)\n",
            " * Added rule IF f.(c.(temperature_3 IS very_cold) AND c.(temperature_2 IS cold)) THEN ('today_temperature', 'cold')\n",
            "\n",
            " * Regular expression is not matching with single atomic clause\n",
            " * Looking for an operator in (altitude IS very_high) OR (humidity IS dry)\n",
            "  -- Found (altitude IS very_high) *OR* (humidity IS dry)\n",
            " * Simple clause with parentheses matched\n",
            " * Rule: c.(altitude IS very_high)\n",
            " * Simple clause with parentheses matched\n",
            " * Rule: c.(humidity IS dry)\n",
            " * Added rule IF f.(c.(altitude IS very_high) OR c.(humidity IS dry)) THEN ('today_temperature', 'hot')\n",
            "\n",
            " * Regular expression is not matching with single atomic clause\n",
            " * Looking for an operator in (temperature_1 IS moderate) AND (rain_amount IS moderate)\n",
            "  -- Found (temperature_1 IS moderate) *AND* (rain_amount IS moderate)\n",
            " * Simple clause with parentheses matched\n",
            " * Rule: c.(temperature_1 IS moderate)\n",
            " * Simple clause with parentheses matched\n",
            " * Rule: c.(rain_amount IS moderate)\n",
            " * Added rule IF f.(c.(temperature_1 IS moderate) AND c.(rain_amount IS moderate)) THEN ('today_temperature', 'moderate')\n",
            "\n",
            " * Regular expression is not matching with single atomic clause\n",
            " * Looking for an operator in (humidity IS dry) AND (rain_amount IS high)\n",
            "  -- Found (humidity IS dry) *AND* (rain_amount IS high)\n",
            " * Simple clause with parentheses matched\n",
            " * Rule: c.(humidity IS dry)\n",
            " * Simple clause with parentheses matched\n",
            " * Rule: c.(rain_amount IS high)\n",
            " * Added rule IF f.(c.(humidity IS dry) AND c.(rain_amount IS high)) THEN ('today_temperature', 'moderate')\n",
            "\n",
            " * Regular expression is not matching with single atomic clause\n",
            " * Looking for an operator in (altitude IS low) AND (temperature_1 IS hot)\n",
            "  -- Found (altitude IS low) *AND* (temperature_1 IS hot)\n",
            " * Simple clause with parentheses matched\n",
            " * Rule: c.(altitude IS low)\n",
            " * Simple clause with parentheses matched\n",
            " * Rule: c.(temperature_1 IS hot)\n",
            " * Added rule IF f.(c.(altitude IS low) AND c.(temperature_1 IS hot)) THEN ('today_temperature', 'hot')\n",
            "\n",
            " * Regular expression is not matching with single atomic clause\n",
            " * Looking for an operator in (rain_amount IS very_high) AND (temperature_2 IS very_cold) AND (temperature_1 IS very_cold)\n",
            "  -- Found (rain_amount IS very_high) *AND* (temperature_2 IS very_cold) AND (temperature_1 IS very_cold)\n",
            " * Simple clause with parentheses matched\n",
            " * Rule: c.(rain_amount IS very_high)\n",
            " * Regular expression is not matching with single atomic clause\n",
            " * Looking for an operator in (temperature_2 IS very_cold) AND (temperature_1 IS very_cold)\n",
            "  -- Found (temperature_2 IS very_cold) *AND* (temperature_1 IS very_cold)\n",
            " * Simple clause with parentheses matched\n",
            " * Rule: c.(temperature_2 IS very_cold)\n",
            " * Simple clause with parentheses matched\n",
            " * Rule: c.(temperature_1 IS very_cold)\n",
            " * Added rule IF f.(c.(rain_amount IS very_high) AND f.(c.(temperature_2 IS very_cold) AND c.(temperature_1 IS very_cold))) THEN ('today_temperature', 'very_cold')\n",
            "\n",
            " * Regular expression is not matching with single atomic clause\n",
            " * Looking for an operator in (rain_amount IS low) AND (humidity IS wet)\n",
            "  -- Found (rain_amount IS low) *AND* (humidity IS wet)\n",
            " * Simple clause with parentheses matched\n",
            " * Rule: c.(rain_amount IS low)\n",
            " * Simple clause with parentheses matched\n",
            " * Rule: c.(humidity IS wet)\n",
            " * Added rule IF f.(c.(rain_amount IS low) AND c.(humidity IS wet)) THEN ('today_temperature', 'very_hot')\n",
            "\n",
            " * Regular expression is not matching with single atomic clause\n",
            " * Looking for an operator in (temperature_3 IS hot) AND (temperature_2 IS moderate) AND (temperature_1 IS hot)\n",
            "  -- Found (temperature_3 IS hot) *AND* (temperature_2 IS moderate) AND (temperature_1 IS hot)\n",
            " * Simple clause with parentheses matched\n",
            " * Rule: c.(temperature_3 IS hot)\n",
            " * Regular expression is not matching with single atomic clause\n",
            " * Looking for an operator in (temperature_2 IS moderate) AND (temperature_1 IS hot)\n",
            "  -- Found (temperature_2 IS moderate) *AND* (temperature_1 IS hot)\n",
            " * Simple clause with parentheses matched\n",
            " * Rule: c.(temperature_2 IS moderate)\n",
            " * Simple clause with parentheses matched\n",
            " * Rule: c.(temperature_1 IS hot)\n",
            " * Added rule IF f.(c.(temperature_3 IS hot) AND f.(c.(temperature_2 IS moderate) AND c.(temperature_1 IS hot))) THEN ('today_temperature', 'very_hot')\n",
            "\n",
            " * 9 rules successfully added\n"
          ]
        }
      ],
      "source": [
        "rules = [\n",
        "    \n",
        "    \"IF (temperature_3 IS very_cold) AND (temperature_2 IS cold) AND (temperature_1 IS cold) THEN (today_temperature IS cold)\",\"IF (temperature_3 IS very_cold) AND (temperature_2 IS cold) THEN (today_temperature IS cold)\",\n",
        "    \"IF (altitude IS very_high) OR (humidity IS dry) THEN (today_temperature IS hot)\",\"IF (temperature_1 IS moderate) AND (rain_amount IS moderate) THEN (today_temperature IS moderate)\",\n",
        "    \"IF (humidity IS dry) AND (rain_amount IS high) THEN (today_temperature IS moderate)\",\n",
        "    \"IF (altitude IS low) AND (temperature_1 IS hot) THEN (today_temperature IS hot)\",\"IF (rain_amount IS very_high) AND (temperature_2 IS very_cold) AND (temperature_1 IS very_cold) THEN (today_temperature IS very_cold)\",\n",
        "    \"IF (rain_amount IS low) AND (humidity IS wet) THEN (today_temperature IS very_hot)\",\n",
        "    \"IF (temperature_3 IS hot) AND (temperature_2 IS moderate) AND (temperature_1 IS hot) THEN (today_temperature IS very_hot)\"\n",
        "]\n",
        "\n",
        "\n",
        "fuzzysys.add_rules(rules,verbose=True)"
      ]
    },
    {
      "cell_type": "code",
      "execution_count": 13,
      "metadata": {
        "colab": {
          "base_uri": "https://localhost:8080/"
        },
        "id": "YRrXExMt3d-L",
        "outputId": "8e3ca169-c194-4519-9df9-872ebfede2e8"
      },
      "outputs": [
        {
          "output_type": "execute_result",
          "data": {
            "text/plain": [
              "{'today_temperature': 36.952201727383795}"
            ]
          },
          "metadata": {},
          "execution_count": 13
        }
      ],
      "source": [
        "fuzzysys.set_variable(\"temperature_3\", 3)\n",
        "fuzzysys.set_variable(\"temperature_2\", 5)\n",
        "fuzzysys.set_variable(\"temperature_1\", 3)\n",
        "fuzzysys.set_variable(\"humidity\", 40)\n",
        "fuzzysys.set_variable(\"rain_amount\", 100)\n",
        "fuzzysys.set_variable(\"altitude\", 2000)\n",
        "fuzzysys.inference()\n"
      ]
    },
    {
      "cell_type": "code",
      "execution_count": null,
      "metadata": {
        "id": "NgbmWQG73d-L"
      },
      "outputs": [],
      "source": []
    }
  ],
  "metadata": {
    "kernelspec": {
      "display_name": "Python 3.9.6 64-bit",
      "metadata": {
        "interpreter": {
          "hash": "df642eef7b43fe7a4a517bca7a97690968a466268416ac555ac71584a4a4c66c"
        }
      },
      "name": "python3"
    },
    "language_info": {
      "codemirror_mode": {
        "name": "ipython",
        "version": 3
      },
      "file_extension": ".py",
      "mimetype": "text/x-python",
      "name": "python",
      "nbconvert_exporter": "python",
      "pygments_lexer": "ipython3",
      "version": "3.9.6"
    },
    "orig_nbformat": 2,
    "colab": {
      "provenance": []
    }
  },
  "nbformat": 4,
  "nbformat_minor": 0
}