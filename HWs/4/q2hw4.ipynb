{
  "cells": [
    {
      "cell_type": "code",
      "execution_count": 1,
      "metadata": {
        "id": "riImtiV8cw82"
      },
      "outputs": [],
      "source": [
        "import random as rd\n",
        "import pandas as pd\n",
        "import numpy as np\n",
        "import matplotlib.pyplot as plt\n",
        "from random import randint"
      ]
    },
    {
      "cell_type": "markdown",
      "metadata": {
        "id": "fNQAABPmcw84"
      },
      "source": [
        "Initialize"
      ]
    },
    {
      "cell_type": "code",
      "execution_count": 2,
      "metadata": {
        "colab": {
          "base_uri": "https://localhost:8080/"
        },
        "id": "UgtXvfWScw86",
        "outputId": "1b590a18-d11c-4fe5-8804-1618dade105e"
      },
      "outputs": [
        {
          "name": "stdout",
          "output_type": "stream",
          "text": [
            "Item num \t Weight \t Values\n",
            "0 \t \t 2\t \t 30\n",
            "\n",
            "1 \t \t 4\t \t 10\n",
            "\n",
            "2 \t \t 1\t \t 20\n",
            "\n",
            "3 \t \t 3\t \t 50\n",
            "\n",
            "4 \t \t 5\t \t 70\n",
            "\n",
            "5 \t \t 1\t \t 15\n",
            "\n",
            "6 \t \t 7\t \t 40\n",
            "\n",
            "7 \t \t 4\t \t 25\n",
            "\n"
          ]
        }
      ],
      "source": [
        "w = np.array([2,4,1,3,5,1,7,4])\n",
        "val = np.array([30,10,20,50,70,15,40,25])\n",
        "thrshd_knackpack = 25 \n",
        "print('Item num \\t Weight \\t Values')\n",
        "for i in range(len(w)):\n",
        "    print('{0} \\t \\t {1}\\t \\t {2}\\n'.format(i, w[i], val[i]))"
      ]
    },
    {
      "cell_type": "markdown",
      "metadata": {
        "id": "_1turmiLcw87"
      },
      "source": [
        "make random population"
      ]
    },
    {
      "cell_type": "code",
      "execution_count": 3,
      "metadata": {
        "colab": {
          "base_uri": "https://localhost:8080/"
        },
        "id": "RWVhYBeicw88",
        "outputId": "d3adfb58-e699-47ac-ee4f-92bd109153df"
      },
      "outputs": [
        {
          "name": "stdout",
          "output_type": "stream",
          "text": [
            "init population: \n",
            "[[0 1 1 1 0 0 1 1]\n",
            " [1 1 1 0 1 0 1 0]\n",
            " [0 0 0 1 0 1 0 1]\n",
            " [1 0 0 0 0 1 0 1]\n",
            " [0 1 0 0 1 1 1 1]\n",
            " [0 1 0 1 1 0 1 1]\n",
            " [0 0 1 1 0 0 1 1]\n",
            " [1 1 0 0 1 1 1 1]\n",
            " [1 1 1 0 1 1 0 1]\n",
            " [0 1 0 0 0 1 0 1]]\n"
          ]
        }
      ],
      "source": [
        "init_poulate = np.random.randint(2, size = (10,8))\n",
        "init_poulate = init_poulate.astype(int)\n",
        "num_gen = 50\n",
        "print('init population: \\n{}'.format(init_poulate))"
      ]
    },
    {
      "cell_type": "code",
      "execution_count": 4,
      "metadata": {
        "id": "UqGcZbA6cw88"
      },
      "outputs": [],
      "source": [
        "def mohasebe_fitness(w, val, population, threshold):\n",
        "    fitness = np.empty(population.shape[0])\n",
        "    for i in range(population.shape[0]):\n",
        "        val_sum = np.sum(population[i] * val)\n",
        "        w_sum = np.sum(population[i] * w)\n",
        "        if w_sum <= threshold:\n",
        "            fitness[i] = val_sum\n",
        "        else :\n",
        "            fitness[i] = 0 \n",
        "    return fitness.astype(int)   "
      ]
    },
    {
      "cell_type": "markdown",
      "metadata": {
        "id": "nuQgK7kKcw89"
      },
      "source": [
        "Now we select the fittest individuals so that they can undergo crossover."
      ]
    },
    {
      "cell_type": "code",
      "execution_count": 5,
      "metadata": {
        "id": "jH4FCVBOcw89"
      },
      "outputs": [],
      "source": [
        "def selection(fitness, num_parents, population):\n",
        "    fitness = list(fitness)\n",
        "    parents = np.empty((num_parents, population.shape[1]))\n",
        "    for i in range(num_parents):\n",
        "        max_fitness_idx = np.where(fitness == np.max(fitness))\n",
        "        parents[i,:] = population[max_fitness_idx[0][0], :]\n",
        "        fitness[max_fitness_idx[0][0]] = -999999\n",
        "\n",
        "    return parents"
      ]
    },
    {
      "cell_type": "code",
      "execution_count": 6,
      "metadata": {
        "id": "wo04VOl-cw8-"
      },
      "outputs": [],
      "source": [
        "def mutation(parents):\n",
        "    mutations = np.empty((parents.shape))\n",
        "    rate_mute = 0.5\n",
        "    for i in range(parents.shape[0]):\n",
        "        random_value = rd.random()\n",
        "        mutations[i,:] = parents[i,:]\n",
        "        if random_value > rate_mute:\n",
        "            continue\n",
        "\n",
        "        randval1 = randint(0,parents.shape[1]-1)    \n",
        "        mutations[i, randval1] = 0 if mutations[i, randval1] == 1 else 1\n",
        "\n",
        "    return mutations\n",
        "\n",
        "def crossover(parents, crossover_numbers):\n",
        "    results = np.empty((crossover_numbers, parents.shape[1]))\n",
        "    crossover_point = int(parents.shape[1]/2 + 1)\n",
        "    crossover_rate = 0.8\n",
        "    i=0\n",
        "    while (parents.shape[0] < crossover_numbers):\n",
        "        x = rd.random()\n",
        "        if x > crossover_rate:\n",
        "            continue\n",
        "\n",
        "        parent1_index = i%parents.shape[0]\n",
        "        parent2_index = (i+1)%parents.shape[0]\n",
        "        results[i,0:crossover_point] = parents[parent1_index,0:crossover_point]\n",
        "        results[i,crossover_point:] = parents[parent2_index,crossover_point:]\n",
        "        i=+1\n",
        "\n",
        "    return results    "
      ]
    },
    {
      "cell_type": "code",
      "execution_count": 7,
      "metadata": {
        "id": "WxliLctrcw8-"
      },
      "outputs": [],
      "source": [
        "def optimizer(w, val, population, pop_size, num_gen, threshold):\n",
        "    parameters, fitness_history = [], []\n",
        "    num_parents = int(pop_size[0]/2)\n",
        "    num_offsprings = pop_size[0] - num_parents \n",
        "    for i in range(num_gen):\n",
        "        fitness = mohasebe_fitness(w, val, population, threshold)\n",
        "        fitness_history.append(fitness)\n",
        "        parents = selection(fitness, num_parents, population)\n",
        "        mutations = mutation(parents)\n",
        "        population[0:parents.shape[0], :] = parents\n",
        "        population[parents.shape[0]:, :] = mutations\n",
        "        \n",
        "    print('Last generation: ')\n",
        "    print(population) \n",
        "    last_gen_fitness = mohasebe_fitness(w, val, population, threshold)      \n",
        "    print('Fitness of the last generation: ')\n",
        "    print(last_gen_fitness)\n",
        "    max_fitness = np.where(last_gen_fitness == np.max(last_gen_fitness))\n",
        "    parameters.append(population[max_fitness[0][0],:])\n",
        "    return parameters, fitness_history"
      ]
    },
    {
      "cell_type": "code",
      "execution_count": 8,
      "metadata": {
        "colab": {
          "base_uri": "https://localhost:8080/"
        },
        "id": "ReR2mpKfcw8_",
        "outputId": "46f989a6-9879-4140-c6b1-ffd37c6b170c"
      },
      "outputs": [
        {
          "name": "stdout",
          "output_type": "stream",
          "text": [
            "Last generation: \n",
            "[[0 1 1 1 1 1 1 1]\n",
            " [0 1 1 1 1 1 1 1]\n",
            " [0 1 1 1 1 1 1 1]\n",
            " [0 1 1 1 1 1 1 1]\n",
            " [0 1 1 1 1 1 1 1]\n",
            " [0 1 1 1 0 1 1 1]\n",
            " [0 1 1 0 1 1 1 1]\n",
            " [0 1 1 1 1 1 1 1]\n",
            " [0 1 0 1 1 1 1 1]\n",
            " [0 1 1 1 1 1 1 1]]\n",
            "Fitness of the last generation: \n",
            "[230 230 230 230 230 160 180 230 210 230]\n",
            "The optimizerd parameters for the given inputs are: \n",
            "[array([0, 1, 1, 1, 1, 1, 1, 1])]\n"
          ]
        }
      ],
      "source": [
        "parameters, fitness_history = optimizer(w, val, init_poulate, (10,8), num_gen, thrshd_knackpack)\n",
        "print('The optimizerd parameters for the given inputs are: ')\n",
        "print(parameters)\n",
        "selected_items = len(w) * parameters"
      ]
    },
    {
      "cell_type": "code",
      "execution_count": 9,
      "metadata": {
        "colab": {
          "base_uri": "https://localhost:8080/",
          "height": 312
        },
        "id": "QKk9WsQacw9A",
        "outputId": "cc8b4f06-1723-4b90-e3ad-404ecaaabacb"
      },
      "outputs": [
        {
          "data": {
            "image/png": "[encoded data removed]",
            "text/plain": [
              "<Figure size 432x288 with 1 Axes>"
            ]
          },
          "metadata": {
            "needs_background": "light"
          },
          "output_type": "display_data"
        },
        {
          "name": "stdout",
          "output_type": "stream",
          "text": [
            "(50, 10)\n"
          ]
        }
      ],
      "source": [
        "fitness_history_mean = [np.mean(fitness) for fitness in fitness_history]\n",
        "fitness_history_max = [np.max(fitness) for fitness in fitness_history]\n",
        "plt.plot(list(range(num_gen)), fitness_history_mean, label = 'Mean Fitness')\n",
        "plt.plot(list(range(num_gen)), fitness_history_max, label = 'Max Fitness')\n",
        "plt.legend()\n",
        "plt.title('Fitness through the generations')\n",
        "plt.xlabel('Generations')\n",
        "plt.ylabel('Fitness')\n",
        "plt.show()\n",
        "print(np.asarray(fitness_history).shape)"
      ]
    }
  ],
  "metadata": {
    "colab": {
      "provenance": []
    },
    "kernelspec": {
      "display_name": "Python 3",
      "language": "python",
      "name": "python3"
    },
    "language_info": {
      "codemirror_mode": {
        "name": "ipython",
        "version": 3
      },
      "file_extension": ".py",
      "mimetype": "text/x-python",
      "name": "python",
      "nbconvert_exporter": "python",
      "pygments_lexer": "ipython3",
      "version": "3.9.2"
    },
    "orig_nbformat": 4,
    "vscode": {
      "interpreter": {
        "hash": "3122f387697598c5dce976e0fb961f00f2ded6a5c75cff4608acb13af2a9f332"
      }
    }
  },
  "nbformat": 4,
  "nbformat_minor": 0
}
